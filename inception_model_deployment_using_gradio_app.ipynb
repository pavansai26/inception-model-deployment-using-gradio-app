{
  "nbformat": 4,
  "nbformat_minor": 0,
  "metadata": {
    "colab": {
      "name": "inception model deployment using gradio app.ipynb",
      "provenance": [],
      "private_outputs": true,
      "authorship_tag": "ABX9TyNWT/flu2Nu3VeFC/0YFQVD",
      "include_colab_link": true
    },
    "kernelspec": {
      "name": "python3",
      "display_name": "Python 3"
    }
  },
  "cells": [
    {
      "cell_type": "markdown",
      "metadata": {
        "id": "view-in-github",
        "colab_type": "text"
      },
      "source": [
        "<a href=\"https://colab.research.google.com/github/pavansai26/inception-model-deployment-using-gradio-app/blob/master/inception_model_deployment_using_gradio_app.ipynb\" target=\"_parent\"><img src=\"https://colab.research.google.com/assets/colab-badge.svg\" alt=\"Open In Colab\"/></a>"
      ]
    },
    {
      "cell_type": "code",
      "metadata": {
        "id": "e72IEZrKvh-u",
        "colab_type": "code",
        "colab": {}
      },
      "source": [
        "!pip install -q gradio "
      ],
      "execution_count": null,
      "outputs": []
    },
    {
      "cell_type": "code",
      "metadata": {
        "id": "uhSdS0qpwWs_",
        "colab_type": "code",
        "colab": {}
      },
      "source": [
        "import gradio as gr\n",
        "import tensorflow as tf\n",
        "import numpy as np\n",
        "from PIL import Image\n",
        "import requests\n",
        "from urllib.request import urlretrieve"
      ],
      "execution_count": null,
      "outputs": []
    },
    {
      "cell_type": "code",
      "metadata": {
        "id": "-8AJ81Tbwd9S",
        "colab_type": "code",
        "colab": {}
      },
      "source": [
        "# Download human-readable labels for ImageNet.\n",
        "response = requests.get(\"https://git.io/JJkYN\")\n",
        "labels = response.text.split(\"\\n\")"
      ],
      "execution_count": null,
      "outputs": []
    },
    {
      "cell_type": "code",
      "metadata": {
        "id": "jyixHxXGwmAR",
        "colab_type": "code",
        "colab": {}
      },
      "source": [
        "# Download sample images\n",
        "urlretrieve(\"https://www.sciencemag.org/sites/default/files/styles/article_main_large/public/cc_BE6RJF_16x9.jpg?itok=nP17Fm9H\",\"monkey.jpg\")\n",
        "urlretrieve(\"https://www.discoverboating.com/sites/default/files/inline-images/buying-a-sailboat-checklist.jpg\",\"sailboat.jpg\")\n",
        "urlretrieve(\"https://external-preview.redd.it/lG5mI_9Co1obw2TiY0e-oChlXfEQY3tsRaIjpYjERqs.jpg?auto=webp&s=ea81982f44b83efbb803c8cff8953ee547624f70\",\"bicycle.jpg\")\n",
        "urlretrieve(\"https://www.chamaripashoes.com/blog/wp-content/uploads/2018/09/Robert-Downey-Jr..jpg\",\"rdj.jpg\");"
      ],
      "execution_count": null,
      "outputs": []
    },
    {
      "cell_type": "code",
      "metadata": {
        "id": "aEtf7MdswskM",
        "colab_type": "code",
        "colab": {}
      },
      "source": [
        "inception_net = tf.keras.applications.InceptionV3()\n",
        "\n",
        "def classify_image_with_inception_net(im):\n",
        "\tim = Image.fromarray(im.astype('uint8'), 'RGB')\n",
        "\tim = im.resize((299, 299))\n",
        "\tarr = np.array(im).reshape((-1, 299, 299, 3))\n",
        "\tarr = tf.keras.applications.inception_v3.preprocess_input(arr)\n",
        "\tprediction = inception_net.predict(arr).flatten()\n",
        "\treturn {labels[i]: float(prediction[i]) for i in range(1000)}"
      ],
      "execution_count": null,
      "outputs": []
    },
    {
      "cell_type": "code",
      "metadata": {
        "id": "PnQu71LcxOJH",
        "colab_type": "code",
        "colab": {}
      },
      "source": [
        "imagein = gr.inputs.Image()\n",
        "label = gr.outputs.Label(num_top_classes=3)\n",
        "\n",
        "sample_images = [\n",
        "                 [\"monkey.jpg\"],\n",
        "                 [\"rdj.jpg\"],\n",
        "                 [\"sailboat.jpg\"],\n",
        "                 [\"bicycle.jpg\"]\n",
        "]\n",
        "\n",
        "gr.Interface(\n",
        "    [ classify_image_with_inception_net], \n",
        "    imagein, \n",
        "    label,\n",
        "    title=\"InceptionNet\",\n",
        "    description=\" state-of-the-art machine learning model that classify images into one of 1,000 categories:  InceptionNet (bottom), a much heavier model that has an accuracy of 0.779.\",\n",
        "    examples=sample_images\n",
        ").launch();"
      ],
      "execution_count": null,
      "outputs": []
    },
    {
      "cell_type": "code",
      "metadata": {
        "id": "0th-MQfXxpYx",
        "colab_type": "code",
        "colab": {}
      },
      "source": [
        ""
      ],
      "execution_count": null,
      "outputs": []
    }
  ]
}